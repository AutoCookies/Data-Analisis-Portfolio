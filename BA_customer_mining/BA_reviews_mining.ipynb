{
 "cells": [
  {
   "cell_type": "markdown",
   "metadata": {},
   "source": [
    "## Steps\n",
    "- Import Packages\n",
    "- Webscrapping\n",
    "- Clean the DataSet.\n",
    "- Visualize the DataSet"
   ]
  },
  {
   "cell_type": "markdown",
   "metadata": {},
   "source": [
    "## Import Packages"
   ]
  },
  {
   "cell_type": "code",
   "execution_count": 48,
   "metadata": {},
   "outputs": [],
   "source": [
    "import requests\n",
    "from bs4 import BeautifulSoup\n",
    "import pandas as pd\n",
    "import matplotlib.pyplot as plt\n",
    "import seaborn as sns"
   ]
  },
  {
   "cell_type": "markdown",
   "metadata": {},
   "source": [
    "## Web Scrapping"
   ]
  },
  {
   "cell_type": "code",
   "execution_count": 2,
   "metadata": {},
   "outputs": [
    {
     "name": "stdout",
     "output_type": "stream",
     "text": [
      "Scraping page 1\n"
     ]
    },
    {
     "name": "stdout",
     "output_type": "stream",
     "text": [
      "   ---> 100 total reviews\n",
      "Scraping page 2\n",
      "   ---> 200 total reviews\n",
      "Scraping page 3\n",
      "   ---> 300 total reviews\n",
      "Scraping page 4\n",
      "   ---> 400 total reviews\n",
      "Scraping page 5\n",
      "   ---> 500 total reviews\n",
      "Scraping page 6\n",
      "   ---> 600 total reviews\n",
      "Scraping page 7\n",
      "   ---> 700 total reviews\n",
      "Scraping page 8\n",
      "   ---> 800 total reviews\n",
      "Scraping page 9\n",
      "   ---> 900 total reviews\n",
      "Scraping page 10\n",
      "   ---> 1000 total reviews\n"
     ]
    }
   ],
   "source": [
    "#Scarpping Website to get Data\n",
    "base_url = \"https://www.airlinequality.com/airline-reviews/british-airways\"\n",
    "pages = 10\n",
    "page_size = 100\n",
    "\n",
    "reviews = []\n",
    "\n",
    "# for i in range(1, pages + 1):\n",
    "for i in range(1, pages + 1):\n",
    "\n",
    "    print(f\"Scraping page {i}\")\n",
    "\n",
    "    # Create URL to collect links from paginated data\n",
    "    url = f\"{base_url}/page/{i}/?sortby=post_date%3ADesc&pagesize={page_size}\"\n",
    "\n",
    "    # Collect HTML data from this page\n",
    "    response = requests.get(url)\n",
    "\n",
    "    # Parse content\n",
    "    content = response.content\n",
    "    parsed_content = BeautifulSoup(content, 'html.parser')\n",
    "    for para in parsed_content.find_all(\"div\", {\"class\": \"text_content\"}):\n",
    "        reviews.append(para.get_text())\n",
    "    \n",
    "    print(f\"   ---> {len(reviews)} total reviews\")"
   ]
  },
  {
   "cell_type": "markdown",
   "metadata": {},
   "source": [
    "## Clean Data"
   ]
  },
  {
   "cell_type": "code",
   "execution_count": 3,
   "metadata": {},
   "outputs": [
    {
     "data": {
      "text/html": [
       "<div>\n",
       "<style scoped>\n",
       "    .dataframe tbody tr th:only-of-type {\n",
       "        vertical-align: middle;\n",
       "    }\n",
       "\n",
       "    .dataframe tbody tr th {\n",
       "        vertical-align: top;\n",
       "    }\n",
       "\n",
       "    .dataframe thead th {\n",
       "        text-align: right;\n",
       "    }\n",
       "</style>\n",
       "<table border=\"1\" class=\"dataframe\">\n",
       "  <thead>\n",
       "    <tr style=\"text-align: right;\">\n",
       "      <th></th>\n",
       "      <th>reviews</th>\n",
       "    </tr>\n",
       "  </thead>\n",
       "  <tbody>\n",
       "    <tr>\n",
       "      <th>0</th>\n",
       "      <td>Not Verified |  Overall not bad. Staff look ti...</td>\n",
       "    </tr>\n",
       "    <tr>\n",
       "      <th>1</th>\n",
       "      <td>✅ Trip Verified | This was our first flight wi...</td>\n",
       "    </tr>\n",
       "    <tr>\n",
       "      <th>2</th>\n",
       "      <td>✅ Trip Verified | I recently encountered a hig...</td>\n",
       "    </tr>\n",
       "    <tr>\n",
       "      <th>3</th>\n",
       "      <td>Not Verified |  Beware! BA don't provide any r...</td>\n",
       "    </tr>\n",
       "    <tr>\n",
       "      <th>4</th>\n",
       "      <td>✅ Trip Verified |  Check in was chaotic and ba...</td>\n",
       "    </tr>\n",
       "  </tbody>\n",
       "</table>\n",
       "</div>"
      ],
      "text/plain": [
       "                                             reviews\n",
       "0  Not Verified |  Overall not bad. Staff look ti...\n",
       "1  ✅ Trip Verified | This was our first flight wi...\n",
       "2  ✅ Trip Verified | I recently encountered a hig...\n",
       "3  Not Verified |  Beware! BA don't provide any r...\n",
       "4  ✅ Trip Verified |  Check in was chaotic and ba..."
      ]
     },
     "execution_count": 3,
     "metadata": {},
     "output_type": "execute_result"
    }
   ],
   "source": [
    "#Create a DataFrame from df\n",
    "df = pd.DataFrame()\n",
    "df[\"reviews\"] = reviews\n",
    "df.head()"
   ]
  },
  {
   "cell_type": "code",
   "execution_count": 4,
   "metadata": {},
   "outputs": [],
   "source": [
    "df.to_csv(\"BA_reviews.csv\")"
   ]
  },
  {
   "cell_type": "markdown",
   "metadata": {},
   "source": [
    "Congratulations! Now you have your dataset for this task! The loops above collected 1000 reviews by iterating through the paginated pages on the website. However, if you want to collect more data, try increasing the number of pages!\n",
    "\n",
    " The next thing that you should do is clean this data to remove any unnecessary text from each of the rows. For example, \"✅ Trip Verified\" can be removed from each row if it exists, as it's not relevant to what we want to investigate."
   ]
  },
  {
   "cell_type": "code",
   "execution_count": 5,
   "metadata": {},
   "outputs": [
    {
     "data": {
      "text/html": [
       "<div>\n",
       "<style scoped>\n",
       "    .dataframe tbody tr th:only-of-type {\n",
       "        vertical-align: middle;\n",
       "    }\n",
       "\n",
       "    .dataframe tbody tr th {\n",
       "        vertical-align: top;\n",
       "    }\n",
       "\n",
       "    .dataframe thead th {\n",
       "        text-align: right;\n",
       "    }\n",
       "</style>\n",
       "<table border=\"1\" class=\"dataframe\">\n",
       "  <thead>\n",
       "    <tr style=\"text-align: right;\">\n",
       "      <th></th>\n",
       "      <th>reviews</th>\n",
       "    </tr>\n",
       "  </thead>\n",
       "  <tbody>\n",
       "    <tr>\n",
       "      <th>0</th>\n",
       "      <td>Not Verified |  Overall not bad. Staff look ti...</td>\n",
       "    </tr>\n",
       "    <tr>\n",
       "      <th>1</th>\n",
       "      <td>✅ Trip Verified | This was our first flight wi...</td>\n",
       "    </tr>\n",
       "    <tr>\n",
       "      <th>2</th>\n",
       "      <td>✅ Trip Verified | I recently encountered a hig...</td>\n",
       "    </tr>\n",
       "    <tr>\n",
       "      <th>3</th>\n",
       "      <td>Not Verified |  Beware! BA don't provide any r...</td>\n",
       "    </tr>\n",
       "    <tr>\n",
       "      <th>4</th>\n",
       "      <td>✅ Trip Verified |  Check in was chaotic and ba...</td>\n",
       "    </tr>\n",
       "    <tr>\n",
       "      <th>...</th>\n",
       "      <td>...</td>\n",
       "    </tr>\n",
       "    <tr>\n",
       "      <th>995</th>\n",
       "      <td>✅ Trip Verified | Flying last Sunday from Gene...</td>\n",
       "    </tr>\n",
       "    <tr>\n",
       "      <th>996</th>\n",
       "      <td>✅ Trip Verified |  London Heathrow to Paris CD...</td>\n",
       "    </tr>\n",
       "    <tr>\n",
       "      <th>997</th>\n",
       "      <td>✅ Trip Verified |  Johannesburg to London. At ...</td>\n",
       "    </tr>\n",
       "    <tr>\n",
       "      <th>998</th>\n",
       "      <td>✅ Trip Verified | Edinburgh to Bangalore via H...</td>\n",
       "    </tr>\n",
       "    <tr>\n",
       "      <th>999</th>\n",
       "      <td>✅ Trip Verified |  \\r\\nBerlin to Johannesburg ...</td>\n",
       "    </tr>\n",
       "  </tbody>\n",
       "</table>\n",
       "<p>1000 rows × 1 columns</p>\n",
       "</div>"
      ],
      "text/plain": [
       "                                               reviews\n",
       "0    Not Verified |  Overall not bad. Staff look ti...\n",
       "1    ✅ Trip Verified | This was our first flight wi...\n",
       "2    ✅ Trip Verified | I recently encountered a hig...\n",
       "3    Not Verified |  Beware! BA don't provide any r...\n",
       "4    ✅ Trip Verified |  Check in was chaotic and ba...\n",
       "..                                                 ...\n",
       "995  ✅ Trip Verified | Flying last Sunday from Gene...\n",
       "996  ✅ Trip Verified |  London Heathrow to Paris CD...\n",
       "997  ✅ Trip Verified |  Johannesburg to London. At ...\n",
       "998  ✅ Trip Verified | Edinburgh to Bangalore via H...\n",
       "999  ✅ Trip Verified |  \\r\\nBerlin to Johannesburg ...\n",
       "\n",
       "[1000 rows x 1 columns]"
      ]
     },
     "execution_count": 5,
     "metadata": {},
     "output_type": "execute_result"
    }
   ],
   "source": [
    "#Drop NaN columns\n",
    "df.dropna()"
   ]
  },
  {
   "cell_type": "code",
   "execution_count": 6,
   "metadata": {},
   "outputs": [
    {
     "data": {
      "text/html": [
       "<div>\n",
       "<style scoped>\n",
       "    .dataframe tbody tr th:only-of-type {\n",
       "        vertical-align: middle;\n",
       "    }\n",
       "\n",
       "    .dataframe tbody tr th {\n",
       "        vertical-align: top;\n",
       "    }\n",
       "\n",
       "    .dataframe thead th {\n",
       "        text-align: right;\n",
       "    }\n",
       "</style>\n",
       "<table border=\"1\" class=\"dataframe\">\n",
       "  <thead>\n",
       "    <tr style=\"text-align: right;\">\n",
       "      <th></th>\n",
       "      <th>reviews</th>\n",
       "    </tr>\n",
       "  </thead>\n",
       "  <tbody>\n",
       "    <tr>\n",
       "      <th>0</th>\n",
       "      <td>Not Verified |  Overall not bad. Staff look ti...</td>\n",
       "    </tr>\n",
       "    <tr>\n",
       "      <th>1</th>\n",
       "      <td>✅ Trip Verified | This was our first flight wi...</td>\n",
       "    </tr>\n",
       "    <tr>\n",
       "      <th>2</th>\n",
       "      <td>✅ Trip Verified | I recently encountered a hig...</td>\n",
       "    </tr>\n",
       "    <tr>\n",
       "      <th>3</th>\n",
       "      <td>Not Verified |  Beware! BA don't provide any r...</td>\n",
       "    </tr>\n",
       "    <tr>\n",
       "      <th>4</th>\n",
       "      <td>✅ Trip Verified |  Check in was chaotic and ba...</td>\n",
       "    </tr>\n",
       "    <tr>\n",
       "      <th>...</th>\n",
       "      <td>...</td>\n",
       "    </tr>\n",
       "    <tr>\n",
       "      <th>995</th>\n",
       "      <td>✅ Trip Verified | Flying last Sunday from Gene...</td>\n",
       "    </tr>\n",
       "    <tr>\n",
       "      <th>996</th>\n",
       "      <td>✅ Trip Verified |  London Heathrow to Paris CD...</td>\n",
       "    </tr>\n",
       "    <tr>\n",
       "      <th>997</th>\n",
       "      <td>✅ Trip Verified |  Johannesburg to London. At ...</td>\n",
       "    </tr>\n",
       "    <tr>\n",
       "      <th>998</th>\n",
       "      <td>✅ Trip Verified | Edinburgh to Bangalore via H...</td>\n",
       "    </tr>\n",
       "    <tr>\n",
       "      <th>999</th>\n",
       "      <td>✅ Trip Verified |  \\r\\nBerlin to Johannesburg ...</td>\n",
       "    </tr>\n",
       "  </tbody>\n",
       "</table>\n",
       "<p>1000 rows × 1 columns</p>\n",
       "</div>"
      ],
      "text/plain": [
       "                                               reviews\n",
       "0    Not Verified |  Overall not bad. Staff look ti...\n",
       "1    ✅ Trip Verified | This was our first flight wi...\n",
       "2    ✅ Trip Verified | I recently encountered a hig...\n",
       "3    Not Verified |  Beware! BA don't provide any r...\n",
       "4    ✅ Trip Verified |  Check in was chaotic and ba...\n",
       "..                                                 ...\n",
       "995  ✅ Trip Verified | Flying last Sunday from Gene...\n",
       "996  ✅ Trip Verified |  London Heathrow to Paris CD...\n",
       "997  ✅ Trip Verified |  Johannesburg to London. At ...\n",
       "998  ✅ Trip Verified | Edinburgh to Bangalore via H...\n",
       "999  ✅ Trip Verified |  \\r\\nBerlin to Johannesburg ...\n",
       "\n",
       "[1000 rows x 1 columns]"
      ]
     },
     "execution_count": 6,
     "metadata": {},
     "output_type": "execute_result"
    }
   ],
   "source": [
    "df.drop_duplicates()"
   ]
  },
  {
   "cell_type": "code",
   "execution_count": 7,
   "metadata": {},
   "outputs": [],
   "source": [
    "df[[\"Status\", \"Comments\"]] = df[\"reviews\"].str.split(\"|\", expand=True)\n",
    "df.drop(columns=\"reviews\", inplace=True)"
   ]
  },
  {
   "cell_type": "markdown",
   "metadata": {},
   "source": [
    "## Data Mining"
   ]
  },
  {
   "cell_type": "code",
   "execution_count": 8,
   "metadata": {},
   "outputs": [
    {
     "data": {
      "text/html": [
       "<div>\n",
       "<style scoped>\n",
       "    .dataframe tbody tr th:only-of-type {\n",
       "        vertical-align: middle;\n",
       "    }\n",
       "\n",
       "    .dataframe tbody tr th {\n",
       "        vertical-align: top;\n",
       "    }\n",
       "\n",
       "    .dataframe thead th {\n",
       "        text-align: right;\n",
       "    }\n",
       "</style>\n",
       "<table border=\"1\" class=\"dataframe\">\n",
       "  <thead>\n",
       "    <tr style=\"text-align: right;\">\n",
       "      <th></th>\n",
       "      <th>Status</th>\n",
       "      <th>Comments</th>\n",
       "    </tr>\n",
       "  </thead>\n",
       "  <tbody>\n",
       "    <tr>\n",
       "      <th>0</th>\n",
       "      <td>Not Verified</td>\n",
       "      <td>Overall not bad. Staff look tired and overwo...</td>\n",
       "    </tr>\n",
       "    <tr>\n",
       "      <th>1</th>\n",
       "      <td>✅ Trip Verified</td>\n",
       "      <td>This was our first flight with British Airway...</td>\n",
       "    </tr>\n",
       "    <tr>\n",
       "      <th>2</th>\n",
       "      <td>✅ Trip Verified</td>\n",
       "      <td>I recently encountered a highly disappointing...</td>\n",
       "    </tr>\n",
       "    <tr>\n",
       "      <th>3</th>\n",
       "      <td>Not Verified</td>\n",
       "      <td>Beware! BA don't provide any refund due to a...</td>\n",
       "    </tr>\n",
       "    <tr>\n",
       "      <th>4</th>\n",
       "      <td>✅ Trip Verified</td>\n",
       "      <td>Check in was chaotic and badly organised. Ev...</td>\n",
       "    </tr>\n",
       "  </tbody>\n",
       "</table>\n",
       "</div>"
      ],
      "text/plain": [
       "             Status                                           Comments\n",
       "0     Not Verified     Overall not bad. Staff look tired and overwo...\n",
       "1  ✅ Trip Verified    This was our first flight with British Airway...\n",
       "2  ✅ Trip Verified    I recently encountered a highly disappointing...\n",
       "3     Not Verified     Beware! BA don't provide any refund due to a...\n",
       "4  ✅ Trip Verified     Check in was chaotic and badly organised. Ev..."
      ]
     },
     "execution_count": 8,
     "metadata": {},
     "output_type": "execute_result"
    }
   ],
   "source": [
    "df.head(5)"
   ]
  },
  {
   "cell_type": "markdown",
   "metadata": {},
   "source": [
    "Create an DataFrame of Status"
   ]
  },
  {
   "cell_type": "code",
   "execution_count": 9,
   "metadata": {},
   "outputs": [
    {
     "data": {
      "text/plain": [
       "Status\n",
       "✅ Trip Verified     777\n",
       "Not Verified        220\n",
       "❎ Not Verified        2\n",
       "cNot Verified         1\n",
       "Name: count, dtype: int64"
      ]
     },
     "execution_count": 9,
     "metadata": {},
     "output_type": "execute_result"
    }
   ],
   "source": [
    "#Make an examine to see how many types of status are there.\n",
    "df['Status'].value_counts()"
   ]
  },
  {
   "cell_type": "code",
   "execution_count": 10,
   "metadata": {},
   "outputs": [
    {
     "data": {
      "text/html": [
       "<div>\n",
       "<style scoped>\n",
       "    .dataframe tbody tr th:only-of-type {\n",
       "        vertical-align: middle;\n",
       "    }\n",
       "\n",
       "    .dataframe tbody tr th {\n",
       "        vertical-align: top;\n",
       "    }\n",
       "\n",
       "    .dataframe thead th {\n",
       "        text-align: right;\n",
       "    }\n",
       "</style>\n",
       "<table border=\"1\" class=\"dataframe\">\n",
       "  <thead>\n",
       "    <tr style=\"text-align: right;\">\n",
       "      <th></th>\n",
       "      <th>count</th>\n",
       "    </tr>\n",
       "    <tr>\n",
       "      <th>Status</th>\n",
       "      <th></th>\n",
       "    </tr>\n",
       "  </thead>\n",
       "  <tbody>\n",
       "    <tr>\n",
       "      <th>True</th>\n",
       "      <td>777</td>\n",
       "    </tr>\n",
       "    <tr>\n",
       "      <th>False</th>\n",
       "      <td>223</td>\n",
       "    </tr>\n",
       "  </tbody>\n",
       "</table>\n",
       "</div>"
      ],
      "text/plain": [
       "        count\n",
       "Status       \n",
       "True      777\n",
       "False     223"
      ]
     },
     "execution_count": 10,
     "metadata": {},
     "output_type": "execute_result"
    }
   ],
   "source": [
    "status_type = df['Status'].str.contains('Trip Verified').value_counts() #Series\n",
    "status_type_df = pd.DataFrame(status_type)\n",
    "status_type_df ##True is Trip Verified, False is Not Verified."
   ]
  },
  {
   "cell_type": "markdown",
   "metadata": {},
   "source": [
    "Analize the Comment types (Good or Bad)"
   ]
  },
  {
   "cell_type": "code",
   "execution_count": 11,
   "metadata": {},
   "outputs": [
    {
     "data": {
      "text/plain": [
       "34.0"
      ]
     },
     "execution_count": 11,
     "metadata": {},
     "output_type": "execute_result"
    }
   ],
   "source": [
    "#Bad comments counting\n",
    "bad_keywords = ['worst', 'bad', 'terrible', 'awful', 'dismal', 'grim', 'dire', 'poor', 'horrible', 'atrocious', 'abysmal', 'frightful', 'frighten', 'frighten', 'rubbish', 'weak', 'hopeless', 'wicked', 'disappointing', 'Inadequate', 'Appalling', 'Below par', 'Unsatisfactory', 'Lousy', 'Subpar', 'Miserable']\n",
    "\n",
    "def bad_counts (array, data):\n",
    "    bad_count = 0\n",
    "    for comment in data['Comments']:\n",
    "        if any(keyword in comment for keyword in array):\n",
    "            bad_count += 1\n",
    "    return bad_count\n",
    "\n",
    "bad_comments = bad_counts(bad_keywords, df)\n",
    "percentage_bad_comments = round((bad_comments/1000)*100, 2)\n",
    "percentage_bad_comments\n",
    "        "
   ]
  },
  {
   "cell_type": "code",
   "execution_count": 12,
   "metadata": {},
   "outputs": [
    {
     "data": {
      "text/plain": [
       "54.4"
      ]
     },
     "execution_count": 12,
     "metadata": {},
     "output_type": "execute_result"
    }
   ],
   "source": [
    "#Good comments counting\n",
    "good_keywords = ['good', 'best', 'marvelous', 'perfect', 'finiest', 'reliable', 'Comfortable', 'Clean', 'friendly', 'nice', 'fine', 'comfort', 'relax', 'free', 'beautiful', 'delicious', 'skillful', 'professional', 'fantastic']\n",
    "def good_counts (array, data):\n",
    "    good_count = 0\n",
    "    for comment in data['Comments']:\n",
    "        if any(keyword in comment for keyword in array):\n",
    "            good_count += 1\n",
    "    return good_count\n",
    "\n",
    "good_comments = good_counts(good_keywords, df)\n",
    "percentage_good_comments = round((good_comments/1000)*100, 2)\n",
    "percentage_good_comments"
   ]
  },
  {
   "cell_type": "markdown",
   "metadata": {},
   "source": [
    "What comments talk about"
   ]
  },
  {
   "cell_type": "code",
   "execution_count": 33,
   "metadata": {},
   "outputs": [
    {
     "name": "stdout",
     "output_type": "stream",
     "text": [
      "800\n",
      "296\n",
      "458\n",
      "413\n",
      "212\n",
      "279\n",
      "227\n",
      "252\n",
      "75\n",
      "103\n",
      "433\n"
     ]
    }
   ],
   "source": [
    "#Talk about flight\n",
    "flight_comment = df['Comments'].str.contains('flight').sum()\n",
    "print(flight_comment)\n",
    "#Talk about crew\n",
    "crew_comment = df['Comments'].str.contains('crew').sum()\n",
    "print(crew_comment)\n",
    "#Talk about service\n",
    "service_comment = df['Comments'].str.contains('service').sum()\n",
    "print(service_comment)\n",
    "#Talk about seat\n",
    "seat_comment = df['Comments'].str.contains('seat').sum()\n",
    "print(seat_comment)\n",
    "#Talk about experience\n",
    "experience_comment = df['Comments'].str.contains('experience').sum()\n",
    "print(experience_comment)\n",
    "#Talk about food\n",
    "food_comment = df['Comments'].str.contains('food').sum()\n",
    "print(food_comment)\n",
    "#Talk about british\n",
    "cabin_comment = df['Comments'].str.contains('cabin').sum()\n",
    "print(cabin_comment)\n",
    "#Talk about staff\n",
    "staff_comment = df['Comments'].str.contains('staff').sum()\n",
    "print(staff_comment)\n",
    "#Talk about price\n",
    "price_comment = df['Comments'].str.contains('price').sum()\n",
    "print(price_comment)\n",
    "#Talk about ticket\n",
    "ticket_comment = df['Comments'].str.contains('ticket').sum()\n",
    "print(ticket_comment)\n",
    "#Talk about time\n",
    "time_comment = df['Comments'].str.contains('time').sum()\n",
    "print(time_comment)\n"
   ]
  },
  {
   "cell_type": "code",
   "execution_count": 40,
   "metadata": {},
   "outputs": [
    {
     "data": {
      "text/html": [
       "<div>\n",
       "<style scoped>\n",
       "    .dataframe tbody tr th:only-of-type {\n",
       "        vertical-align: middle;\n",
       "    }\n",
       "\n",
       "    .dataframe tbody tr th {\n",
       "        vertical-align: top;\n",
       "    }\n",
       "\n",
       "    .dataframe thead th {\n",
       "        text-align: right;\n",
       "    }\n",
       "</style>\n",
       "<table border=\"1\" class=\"dataframe\">\n",
       "  <thead>\n",
       "    <tr style=\"text-align: right;\">\n",
       "      <th></th>\n",
       "      <th>flight_comment</th>\n",
       "      <th>crew_comment</th>\n",
       "      <th>service_comment</th>\n",
       "      <th>seat_comment</th>\n",
       "      <th>experience_comment</th>\n",
       "      <th>food_comment</th>\n",
       "      <th>cabin_comment</th>\n",
       "      <th>staff_comment</th>\n",
       "      <th>price_comment</th>\n",
       "      <th>ticket_comment</th>\n",
       "      <th>time_comment</th>\n",
       "    </tr>\n",
       "  </thead>\n",
       "  <tbody>\n",
       "    <tr>\n",
       "      <th>0</th>\n",
       "      <td>800</td>\n",
       "      <td>296</td>\n",
       "      <td>458</td>\n",
       "      <td>413</td>\n",
       "      <td>212</td>\n",
       "      <td>279</td>\n",
       "      <td>227</td>\n",
       "      <td>252</td>\n",
       "      <td>75</td>\n",
       "      <td>103</td>\n",
       "      <td>433</td>\n",
       "    </tr>\n",
       "  </tbody>\n",
       "</table>\n",
       "</div>"
      ],
      "text/plain": [
       "   flight_comment  crew_comment  service_comment  seat_comment  \\\n",
       "0             800           296              458           413   \n",
       "\n",
       "   experience_comment  food_comment  cabin_comment  staff_comment  \\\n",
       "0                 212           279            227            252   \n",
       "\n",
       "   price_comment  ticket_comment  time_comment  \n",
       "0             75             103           433  "
      ]
     },
     "execution_count": 40,
     "metadata": {},
     "output_type": "execute_result"
    }
   ],
   "source": [
    "talk_about_comments = {\n",
    "    'flight_comment': [flight_comment],\n",
    "    'crew_comment': [crew_comment], \n",
    "    'service_comment': [service_comment],\n",
    "    'seat_comment': [seat_comment],\n",
    "    'experience_comment': [experience_comment],\n",
    "    'food_comment': [food_comment],\n",
    "    'cabin_comment': [cabin_comment],\n",
    "    'staff_comment': [staff_comment],\n",
    "    'price_comment': [price_comment],\n",
    "    'ticket_comment': [ticket_comment],\n",
    "    'time_comment': [time_comment]\n",
    "}\n",
    "\n",
    "talk_about_comments_df = pd.DataFrame(talk_about_comments)\n",
    "talk_about_comments_df"
   ]
  },
  {
   "cell_type": "markdown",
   "metadata": {},
   "source": [
    "## Statistic"
   ]
  },
  {
   "cell_type": "code",
   "execution_count": 13,
   "metadata": {},
   "outputs": [
    {
     "data": {
      "text/html": [
       "<div>\n",
       "<style scoped>\n",
       "    .dataframe tbody tr th:only-of-type {\n",
       "        vertical-align: middle;\n",
       "    }\n",
       "\n",
       "    .dataframe tbody tr th {\n",
       "        vertical-align: top;\n",
       "    }\n",
       "\n",
       "    .dataframe thead th {\n",
       "        text-align: right;\n",
       "    }\n",
       "</style>\n",
       "<table border=\"1\" class=\"dataframe\">\n",
       "  <thead>\n",
       "    <tr style=\"text-align: right;\">\n",
       "      <th></th>\n",
       "      <th>Status</th>\n",
       "      <th>Comments</th>\n",
       "    </tr>\n",
       "  </thead>\n",
       "  <tbody>\n",
       "    <tr>\n",
       "      <th>count</th>\n",
       "      <td>1000</td>\n",
       "      <td>1000</td>\n",
       "    </tr>\n",
       "    <tr>\n",
       "      <th>unique</th>\n",
       "      <td>4</td>\n",
       "      <td>1000</td>\n",
       "    </tr>\n",
       "    <tr>\n",
       "      <th>top</th>\n",
       "      <td>✅ Trip Verified</td>\n",
       "      <td>Overall not bad. Staff look tired and overwo...</td>\n",
       "    </tr>\n",
       "    <tr>\n",
       "      <th>freq</th>\n",
       "      <td>777</td>\n",
       "      <td>1</td>\n",
       "    </tr>\n",
       "  </tbody>\n",
       "</table>\n",
       "</div>"
      ],
      "text/plain": [
       "                  Status                                           Comments\n",
       "count               1000                                               1000\n",
       "unique                 4                                               1000\n",
       "top     ✅ Trip Verified     Overall not bad. Staff look tired and overwo...\n",
       "freq                 777                                                  1"
      ]
     },
     "execution_count": 13,
     "metadata": {},
     "output_type": "execute_result"
    }
   ],
   "source": [
    "df.describe()"
   ]
  },
  {
   "cell_type": "markdown",
   "metadata": {},
   "source": [
    "## Data Visualize"
   ]
  },
  {
   "cell_type": "markdown",
   "metadata": {},
   "source": [
    "Boxplot of Status type counting"
   ]
  },
  {
   "cell_type": "code",
   "execution_count": 14,
   "metadata": {},
   "outputs": [
    {
     "data": {
      "image/png": "[encoded data removed]",
      "text/plain": [
       "<Figure size 640x480 with 1 Axes>"
      ]
     },
     "metadata": {},
     "output_type": "display_data"
    }
   ],
   "source": [
    "def boxplot_bar (dataFrame):\n",
    "    x = ['Verified', 'Not Verified']\n",
    "    fig, ax = plt.subplots()\n",
    "    ax.bar(x, dataFrame['count'], edgecolor='white', linewidth= 0.5)\n",
    "    plt.title('Number of status types')\n",
    "    plt.xlabel('Status')\n",
    "    plt.ylabel('Count')\n",
    "    plt.show()\n",
    "\n",
    "boxplot_bar(status_type_df)"
   ]
  },
  {
   "cell_type": "markdown",
   "metadata": {},
   "source": [
    "Create an plot stacked bar from status"
   ]
  },
  {
   "cell_type": "code",
   "execution_count": 15,
   "metadata": {},
   "outputs": [
    {
     "data": {
      "text/html": [
       "<div>\n",
       "<style scoped>\n",
       "    .dataframe tbody tr th:only-of-type {\n",
       "        vertical-align: middle;\n",
       "    }\n",
       "\n",
       "    .dataframe tbody tr th {\n",
       "        vertical-align: top;\n",
       "    }\n",
       "\n",
       "    .dataframe thead th {\n",
       "        text-align: right;\n",
       "    }\n",
       "</style>\n",
       "<table border=\"1\" class=\"dataframe\">\n",
       "  <thead>\n",
       "    <tr style=\"text-align: right;\">\n",
       "      <th></th>\n",
       "      <th>Good_comments</th>\n",
       "      <th>Bad_comments</th>\n",
       "      <th>Neutral_commnets</th>\n",
       "    </tr>\n",
       "  </thead>\n",
       "  <tbody>\n",
       "    <tr>\n",
       "      <th>0</th>\n",
       "      <td>54.4</td>\n",
       "      <td>34.0</td>\n",
       "      <td>11.6</td>\n",
       "    </tr>\n",
       "  </tbody>\n",
       "</table>\n",
       "</div>"
      ],
      "text/plain": [
       "   Good_comments  Bad_comments  Neutral_commnets\n",
       "0           54.4          34.0              11.6"
      ]
     },
     "execution_count": 15,
     "metadata": {},
     "output_type": "execute_result"
    }
   ],
   "source": [
    "#Create a dataframe contains all comment's status and ammount of them\n",
    "percentage_neutral_commnets = 100 - (percentage_good_comments + percentage_bad_comments)\n",
    "status_comments = {\n",
    "    'Good_comments': [percentage_good_comments],\n",
    "    'Bad_comments': [percentage_bad_comments],\n",
    "    'Neutral_commnets': [percentage_neutral_commnets]\n",
    "}\n",
    "status_comments_df = pd.DataFrame(status_comments)\n",
    "status_comments_df"
   ]
  },
  {
   "cell_type": "code",
   "execution_count": 18,
   "metadata": {},
   "outputs": [
    {
     "data": {
      "image/png": "[encoded data removed]",
      "text/plain": [
       "<Figure size 2000x1000 with 1 Axes>"
      ]
     },
     "metadata": {},
     "output_type": "display_data"
    }
   ],
   "source": [
    "def plot_stacked_bar(dataframe, title_, size_=(20, 10), rot_=0, legend_='upper right'):\n",
    "\n",
    "    ax = dataframe.plot(\n",
    "        kind='bar',\n",
    "        stacked=True,\n",
    "        figsize=size_,\n",
    "        rot=rot_,\n",
    "        title=title_\n",
    "    )\n",
    "\n",
    "    # Annotate bars\n",
    "    annotate_stacked_bars(ax, textsize=13)\n",
    "    # Rename legend\n",
    "    plt.legend(['Good_comments', 'Bad_comments', 'Neutral_comments'], loc=legend_)\n",
    "    # Name of label\n",
    "    plt.ylabel(\"Status percentage (%)\")\n",
    "    plt.xlabel('Status')\n",
    "    plt.show()\n",
    "\n",
    "# Annotate_stacked_bar function\n",
    "def annotate_stacked_bars(ax, pad=1, colour='white', textsize=14):\n",
    "    '''\n",
    "    Add value annotations to bar\n",
    "    '''\n",
    "\n",
    "    # Iterate through plotted rectanges/bars\n",
    "    for i in ax.patches:\n",
    "        # Calculate Annotation\n",
    "        value = str(round(i.get_height(), 1))\n",
    "        if value == '0.0':\n",
    "            continue\n",
    "        \n",
    "        annotation_x = i.get_x() + i.get_width() / 2\n",
    "        annotation_y = i.get_y() + i.get_height() / 2\n",
    "        \n",
    "        ax.annotate(\n",
    "            value,\n",
    "            (annotation_x, annotation_y),\n",
    "            color=colour,\n",
    "            size=textsize,\n",
    "            ha='center',  # horizontal alignment\n",
    "            va='center'   # vertical alignment\n",
    "        )\n",
    "\n",
    "# Example usage\n",
    "plot_stacked_bar(status_comments_df, 'Comments Distribution')"
   ]
  },
  {
   "cell_type": "markdown",
   "metadata": {},
   "source": [
    "Create a bar chart about main talking"
   ]
  },
  {
   "cell_type": "code",
   "execution_count": 46,
   "metadata": {},
   "outputs": [],
   "source": [
    "def bar_chart (dataframe, title_, size_=(18,10), ):\n",
    "    ax = dataframe.plot(\n",
    "        kind= 'bar',\n",
    "        figsize = size_,\n",
    "        title= title_\n",
    "    )\n",
    "    annotate_bars(ax)\n",
    "    plt.show()\n",
    "\n",
    "def annotate_bars(ax, pad=1, colour='white', textsize=14):\n",
    "    '''\n",
    "    Add value annotations to bar\n",
    "    '''\n",
    "\n",
    "    # Iterate through plotted rectanges/bars\n",
    "    for i in ax.patches:\n",
    "        # Calculate Annotation\n",
    "        value = str(round(i.get_height(), 1))\n",
    "        if value == '0.0':\n",
    "            continue\n",
    "        \n",
    "        annotation_x = i.get_x() + i.get_width() / 2\n",
    "        annotation_y = i.get_y() + i.get_height() / 2\n",
    "        \n",
    "        ax.annotate(\n",
    "            value,\n",
    "            (annotation_x, annotation_y),\n",
    "            color=colour,\n",
    "            size=textsize,\n",
    "            ha='center',  # horizontal alignment\n",
    "            va='center'   # vertical alignment\n",
    "        )"
   ]
  },
  {
   "cell_type": "code",
   "execution_count": 47,
   "metadata": {},
   "outputs": [
    {
     "data": {
      "image/png": "[encoded data removed]",
      "text/plain": [
       "<Figure size 1800x1000 with 1 Axes>"
      ]
     },
     "metadata": {},
     "output_type": "display_data"
    }
   ],
   "source": [
    "bar_chart(talk_about_comments_df, 'The Main Talking Subjects')"
   ]
  }
 ],
 "metadata": {
  "kernelspec": {
   "display_name": "Python 3.9.13 ('venv': venv)",
   "language": "python",
   "name": "python3"
  },
  "language_info": {
   "codemirror_mode": {
    "name": "ipython",
    "version": 3
   },
   "file_extension": ".py",
   "mimetype": "text/x-python",
   "name": "python",
   "nbconvert_exporter": "python",
   "pygments_lexer": "ipython3",
   "version": "3.11.1"
  },
  "orig_nbformat": 4,
  "vscode": {
   "interpreter": {
    "hash": "4f7924c4c56b083e0e50eadfe7ef592a7a8ef70df33a0047f82280e6be1afe15"
   }
  }
 },
 "nbformat": 4,
 "nbformat_minor": 2
}
